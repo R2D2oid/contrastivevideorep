{
 "cells": [
  {
   "cell_type": "code",
   "execution_count": 124,
   "metadata": {},
   "outputs": [],
   "source": [
    "from utils import video_utils as vu\n",
    "from utils import sys_utils as su\n",
    "from utils import utilities as u\n",
    "import numpy as np\n",
    "import pandas as pd\n",
    "\n",
    "sent_file = '/usr/local/data02/zahra/datasets/Tempuckey/sentence_segments/sentences.pkl'\n",
    "# video_dir = '/usr/local/extstore01/zahra/Video-Text-Retrieval_OOD/outputs/sentence_segments'\n",
    "video_dir = '/usr/local/data02/zahra/datasets/Tempuckey/sentence_segments/videos'\n"
   ]
  },
  {
   "cell_type": "code",
   "execution_count": 125,
   "metadata": {},
   "outputs": [],
   "source": [
    "vids_path  = sorted([p for p in su.get_files_path(video_dir) if p[-4:]=='.mp4'])\n",
    "\n",
    "vid_info = {}\n",
    "for v in vids_path:\n",
    "    vname = v.split('/')[-1][:-4]\n",
    "    vid_info[vname] = vu.get_video_information(v)"
   ]
  },
  {
   "cell_type": "markdown",
   "metadata": {},
   "source": [
    "## Store videos longer than 0.5 seconds into video_list.csv for feature extraction by gluon"
   ]
  },
  {
   "cell_type": "code",
   "execution_count": 127,
   "metadata": {},
   "outputs": [],
   "source": [
    "savepath_ = '/usr/local/data02/zahra/datasets/Tempuckey/sentence_segments/videos_list.csv'\n",
    "\n",
    "obj_ = []\n",
    "for k,v in vid_info.items():\n",
    "    if vid_info[k][1]>0.5:\n",
    "        obj_.append(f'{video_dir}/{k}.mp4')\n",
    "        \n",
    "print('num videos longer than 0.5 seconds: ',len(obj_))"
   ]
  },
  {
   "cell_type": "code",
   "execution_count": 129,
   "metadata": {},
   "outputs": [
    {
     "data": {
      "text/plain": [
       "True"
      ]
     },
     "execution_count": 129,
     "metadata": {},
     "output_type": "execute_result"
    }
   ],
   "source": [
    "u.dump_textfile(obj_, savepath_)"
   ]
  },
  {
   "cell_type": "markdown",
   "metadata": {},
   "source": [
    "# Spot check videos between 0.7 and 1 second long\n"
   ]
  },
  {
   "cell_type": "code",
   "execution_count": 136,
   "metadata": {},
   "outputs": [
    {
     "name": "stdout",
     "output_type": "stream",
     "text": [
      "19_TRIPPING_2018-02-28-cgy-col-home_00_29_44.283000_to_00_29_58.063000.mp4_00:30:17.683000_00:30:20.319000\n",
      "201_TRIPPING_2018-02-28-buf-tbl-home_02_24_35.600000_to_02_24_39.204000.mp4_02:24:58.256000_02:25:05.563000\n",
      "224_TRIPPING_2018-01-13-col-dal-home_00_37_31.649000_to_00_37_42.426000.mp4_00:38:01.179000_00:38:04.916000\n",
      "292_TRIPPING_2017-11-11-fla-njd-home_01_07_03.219000_to_01_07_06.856000.mp4_01:07:26.910000_01:07:29.379000\n",
      "2_TRIPPING_2017-11-28-fla-nyr-home_01_05_07.937000_to_01_05_20.550000.mp4_01:05:39.769000_01:05:44.041000\n",
      "343_TRIPPING_2017-11-29-ana-stl-home_00_50_25.189000_to_00_50_32.029000.mp4_00:50:51.849000_00:50:52.850000\n",
      "463_TRIPPING_2018-04-16-tbl-njd-national_02_25_50.709000_to_02_25_53.511000.mp4_02:26:12.497000_02:26:17.235000\n",
      "486_TRIPPING_2017-11-07-edm-nyi-home_00_19_15.755000_to_00_19_20.359000.mp4_00:19:39.345000_00:19:42.748000\n",
      "490_TRIPPING_2018-02-11-cgy-nyi-home_00_24_43.315000_to_00_24_50.956000.mp4_00:25:10.342000_00:25:14.112000\n",
      "529_TRIPPING_2018-02-18-fla-wpg-home_01_04_37.340000_to_01_04_42.111000.mp4_01:05:01.998000_01:05:07.871000\n",
      "574_TRIPPING_2017-12-29-cgy-ana-home_01_49_37.738000_to_01_49_41.608000.mp4_01:50:00.727000_01:50:02.562000\n",
      "586_TRIPPING_2018-01-25-buf-van-home_02_15_49.141000_to_02_16_07.026000.mp4_02:16:26.311000_02:16:34.753000\n",
      "600_TRIPPING_2017-12-30-min-nsh-home_02_00_00.894000_to_02_00_06.666000.mp4_02:00:25.685000_02:00:30.490000\n",
      "613_TRIPPING_2018-02-09-stl-wpg-home_02_26_51.803000_to_02_27_00.412000.mp4_02:27:19.898000_02:27:24.302000\n",
      "92_TRIPPING_2017-11-18-col-nsh-home_01_38_51.859000_to_01_39_01.502000.mp4_01:39:20.721000_01:39:24.159000\n"
     ]
    }
   ],
   "source": [
    "for k,v in vid_info.items():\n",
    "    if vid_info[k][1]>0.7 and vid_info[k][1]<1:\n",
    "        print(k)"
   ]
  },
  {
   "cell_type": "code",
   "execution_count": null,
   "metadata": {},
   "outputs": [],
   "source": [
    "import pickle as pkl\n",
    "sents = pkl.load(open(sent_file,'rb'))"
   ]
  },
  {
   "cell_type": "code",
   "execution_count": 139,
   "metadata": {},
   "outputs": [
    {
     "data": {
      "text/plain": [
       "{'sent_end_time': datetime.time(2, 0, 30, 490000),\n",
       " 'sent_start_time': datetime.time(2, 0, 25, 685000),\n",
       " 'sentence': 'YOU DONT LOVE THE CALL BUT NEVERTHELESS YOU COULD LIVE WITH IT.',\n",
       " 'vid_end_time': 7224,\n",
       " 'vid_start_time': 7200,\n",
       " 'video_id': '600_TRIPPING_2017-12-30-min-nsh-home_02_00_00.894000_to_02_00_06.666000.mp4'}"
      ]
     },
     "execution_count": 139,
     "metadata": {},
     "output_type": "execute_result"
    }
   ],
   "source": [
    "id_ = '254_TRIPPING_2018-01-20-dal-buf-home_00_37_32.617000_to_00_37_37.022000.mp4_00:37:56.007000_00:37:59.177000'\n",
    "id_ = '582_TRIPPING_2018-02-03-cbj-nyi-home_02_30_45.570000_to_02_30_50.975000.mp4_02:31:10.028000_02:31:12.930000'\n",
    "id_ = '292_TRIPPING_2017-11-11-fla-njd-home_01_07_03.219000_to_01_07_06.856000.mp4_01:07:26.910000_01:07:29.379000'\n",
    "id_ = '490_TRIPPING_2018-02-11-cgy-nyi-home_00_24_43.315000_to_00_24_50.956000.mp4_00:25:10.342000_00:25:14.112000'\n",
    "id_ = '600_TRIPPING_2017-12-30-min-nsh-home_02_00_00.894000_to_02_00_06.666000.mp4_02:00:25.685000_02:00:30.490000'\n",
    "sents[id_]"
   ]
  },
  {
   "cell_type": "code",
   "execution_count": null,
   "metadata": {},
   "outputs": [],
   "source": []
  }
 ],
 "metadata": {
  "kernelspec": {
   "display_name": "Python 3",
   "language": "python",
   "name": "python3"
  },
  "language_info": {
   "codemirror_mode": {
    "name": "ipython",
    "version": 3
   },
   "file_extension": ".py",
   "mimetype": "text/x-python",
   "name": "python",
   "nbconvert_exporter": "python",
   "pygments_lexer": "ipython3",
   "version": "3.6.9"
  }
 },
 "nbformat": 4,
 "nbformat_minor": 2
}
